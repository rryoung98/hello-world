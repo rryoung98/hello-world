{
  "nbformat": 4,
  "nbformat_minor": 0,
  "metadata": {
    "colab": {
      "name": "OGB DGN Basic のコピー",
      "provenance": [],
      "collapsed_sections": [],
      "include_colab_link": true
    },
    "kernelspec": {
      "name": "python3",
      "display_name": "Python 3"
    },
    "accelerator": "GPU"
  },
  "cells": [
    {
      "cell_type": "markdown",
      "metadata": {
        "id": "view-in-github",
        "colab_type": "text"
      },
      "source": [
        "<a href=\"https://colab.research.google.com/github/rryoung98/hello-world/blob/master/OGB_DGN_Basic_%E3%81%AE%E3%82%B3%E3%83%94%E3%83%BC.ipynb\" target=\"_parent\"><img src=\"https://colab.research.google.com/assets/colab-badge.svg\" alt=\"Open In Colab\"/></a>"
      ]
    },
    {
      "cell_type": "code",
      "metadata": {
        "id": "hB52cc_Y1LUH"
      },
      "source": [
        "!pip install torch==1.4.0 torchvision==0.5.0\n",
        "!pip install torch-scatter==latest+cu101 -f https://pytorch-geometric.com/whl/torch-1.4.0.html\n",
        "!pip install torch-sparse==latest+cu101 -f https://pytorch-geometric.com/whl/torch-1.4.0.html\n",
        "!pip install torch-cluster==latest+cu101 -f https://pytorch-geometric.com/whl/torch-1.4.0.html\n",
        "!pip install torch-spline-conv==latest+cu101 -f https://pytorch-geometric.com/whl/torch-1.4.0.html\n",
        "!pip install torch-geometric"
      ],
      "execution_count": null,
      "outputs": []
    },
    {
      "cell_type": "code",
      "metadata": {
        "id": "Ib9V_FukT9ao"
      },
      "source": [
        "! git clone https://github.com/rryoung98/ogb.git\n"
      ],
      "execution_count": null,
      "outputs": []
    },
    {
      "cell_type": "code",
      "metadata": {
        "id": "cq2XbbbrUvku"
      },
      "source": [
        "# uname = \"rryoung98\"\n",
        "# !git config --global user.email '$uname@gmail.com'\n",
        "# !git config --global user.name '$uname'\n",
        "\n",
        "# from getpass import getpass\n",
        "# password = getpass('Password:')\n",
        "\n",
        "\n",
        "# ''' # create a file, then add it to stage\n",
        "# !git commit -m 'commit message'  # commit in Colab\n",
        "# !git push origin master          # push to github '''\n",
        "# !cd colabtools && git rry-dataloader-2021.03.20"
      ],
      "execution_count": null,
      "outputs": []
    },
    {
      "cell_type": "code",
      "metadata": {
        "id": "2rngMR0h4UxJ"
      },
      "source": [
        "%cd ogb/examples/linkproppred/\n",
        "%ls\n",
        "\n"
      ],
      "execution_count": null,
      "outputs": []
    },
    {
      "cell_type": "code",
      "metadata": {
        "id": "-t5RfHWYW3OQ"
      },
      "source": [
        "%cd collab/\n",
        "%ls"
      ],
      "execution_count": null,
      "outputs": []
    },
    {
      "cell_type": "code",
      "metadata": {
        "id": "7epS6ae54faE"
      },
      "source": [
        "!pip install torch==1.4.0 torchvision==0.5.0"
      ],
      "execution_count": null,
      "outputs": []
    },
    {
      "cell_type": "code",
      "metadata": {
        "id": "iOQ-0p5-XMWf"
      },
      "source": [
        "!pip install ogb\n",
        "!python gnn.py --seed 2124 --num_layers 8"
      ],
      "execution_count": null,
      "outputs": []
    },
    {
      "cell_type": "code",
      "metadata": {
        "id": "r02O7hwOS0e3"
      },
      "source": [
        "\n",
        "\n",
        "#! python main.py --dataset ogbl_collab --feature sp --hidden_features 100 --prop_depth 0 --test_ratio 0.1 --epoch 300\n"
      ],
      "execution_count": null,
      "outputs": []
    }
  ]
}