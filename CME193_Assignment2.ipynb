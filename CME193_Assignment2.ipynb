{
  "nbformat": 4,
  "nbformat_minor": 0,
  "metadata": {
    "kernelspec": {
      "display_name": "Python (3.6-cme193_new)",
      "language": "python",
      "name": "cme193_new"
    },
    "language_info": {
      "codemirror_mode": {
        "name": "ipython",
        "version": 3
      },
      "file_extension": ".py",
      "mimetype": "text/x-python",
      "name": "python",
      "nbconvert_exporter": "python",
      "pygments_lexer": "ipython3",
      "version": "3.7.4"
    },
    "colab": {
      "name": "CME193-Assignment2.ipynb",
      "provenance": [],
      "include_colab_link": true
    }
  },
  "cells": [
    {
      "cell_type": "markdown",
      "metadata": {
        "id": "view-in-github",
        "colab_type": "text"
      },
      "source": [
        "<a href=\"https://colab.research.google.com/github/rryoung98/hello-world/blob/master/CME193_Assignment2.ipynb\" target=\"_parent\"><img src=\"https://colab.research.google.com/assets/colab-badge.svg\" alt=\"Open In Colab\"/></a>"
      ]
    },
    {
      "cell_type": "markdown",
      "metadata": {
        "id": "ZAadE6Jom5rw",
        "colab_type": "text"
      },
      "source": [
        "# CME193 - Assignment 2\n",
        "\n",
        "Due Date : 19th May, 5:00 PM\n",
        "\n",
        "In this assignment, you'll load and play with CO2 data collected at the [Mauna Loa observatory](https://en.wikipedia.org/wiki/Mauna_Loa_Observatory) over the last 60 years. We will also be using the [El Nino Index](https://origin.cpc.ncep.noaa.gov/products/analysis_monitoring/ensostuff/ONI_v5.php) dataset that records the temperature changes due to the [El Nino](https://en.wikipedia.org/wiki/El_Niño) effect. We will try to apply some of the methods we learnt in class on these datasets.\n",
        "\n",
        "Links for more information about the datset we are using\n",
        "* NOAA Website: https://www.esrl.noaa.gov/gmd/ccgg/trends/full.html\n",
        "* NOAA data: https://www.esrl.noaa.gov/gmd/ccgg/trends/data.html\n",
        "\n",
        "The monthly data can be found at this [link](ftp://aftp.cmdl.noaa.gov/products/trends/co2/co2_mm_mlo.txt)\n",
        "You can run the cells below to download the dataset.\n",
        "\n",
        "Note: For fill-in cells that mention a number of lines of code, it is just to indicate that it is possible in that many lines, do not worry if you use more lines than that. Use it as an enouragement to learn how to do it in fewer lines as that will introduce you to useful techniques. Plot saving commands and printing commands are not included in the count."
      ]
    },
    {
      "cell_type": "code",
      "metadata": {
        "id": "ceXAsQwYm5rw",
        "colab_type": "code",
        "colab": {}
      },
      "source": [
        "import pandas as pd\n",
        "import numpy as np\n",
        "import matplotlib.pyplot as plt"
      ],
      "execution_count": 0,
      "outputs": []
    },
    {
      "cell_type": "code",
      "metadata": {
        "id": "IPl-RVY2m5rw",
        "colab_type": "code",
        "colab": {}
      },
      "source": [
        "df = pd.read_csv('ftp://aftp.cmdl.noaa.gov/products/trends/co2/co2_mm_mlo.txt', \n",
        "                  delim_whitespace=True, \n",
        "                  comment='#',\n",
        "                  names=[\"year\", \"month\", \"decdate\", \"co2\", \"co2interp\", \"trend\", \"days\"])\n",
        "\n",
        "pd.set_option('display.max_rows', 10)\n",
        "df"
      ],
      "execution_count": 0,
      "outputs": []
    },
    {
      "cell_type": "markdown",
      "metadata": {
        "id": "gl6KzUEpm5rw",
        "colab_type": "text"
      },
      "source": [
        "## Question 1 - Clean the data\n",
        "\n",
        "The dataframe currently contains columns called `year` and `month`. The goal is to introduce a new column called `date` that combines the year and month into one column. To do this, we will use a Pandas built-in function called `pd.to_datetime`, which accepts as its first argument a dataframe with three columns, `month`, `day`, and `year`, and outputs a dataframe with a single column corresponding to the date. \n",
        "\n",
        "First, create a column called `day` in the dataframe `df`, and set it equal to `1` for all rows. (This is so that, for example, the row with year 1958 and month 3 will be treated as March 1, 1958.)"
      ]
    },
    {
      "cell_type": "code",
      "metadata": {
        "id": "FaUdOh9km5rw",
        "colab_type": "code",
        "colab": {}
      },
      "source": [
        "# YOUR CODE HERE (1 lines, but feel free to also print df if you'd like)\n"
      ],
      "execution_count": 0,
      "outputs": []
    },
    {
      "cell_type": "markdown",
      "metadata": {
        "id": "DVQ9sZGTm5rw",
        "colab_type": "text"
      },
      "source": [
        "Next, select the three columns `month`, `day`, and `year` from `df` and pass the resulting three-column dataframe to `pd.to_datetime`. Create a new column `date` in `df` and set it equal to the output of `pd.to_datetime` to create a new column corresponding to the date."
      ]
    },
    {
      "cell_type": "code",
      "metadata": {
        "id": "abeE5ZVBm5rw",
        "colab_type": "code",
        "colab": {}
      },
      "source": [
        "# YOUR CODE HERE (1 line)\n"
      ],
      "execution_count": 0,
      "outputs": []
    },
    {
      "cell_type": "markdown",
      "metadata": {
        "id": "s7V4EFN-m5rw",
        "colab_type": "text"
      },
      "source": [
        "From this point onward, we only care about the columns `date`, `co2`, and `trend`. Select only these columns and discard everything else."
      ]
    },
    {
      "cell_type": "code",
      "metadata": {
        "id": "1gh-Sao8m5rw",
        "colab_type": "code",
        "colab": {}
      },
      "source": [
        "# YOUR CODE HERE (1 line)\n"
      ],
      "execution_count": 0,
      "outputs": []
    },
    {
      "cell_type": "markdown",
      "metadata": {
        "id": "GKLPyj5wm5rw",
        "colab_type": "text"
      },
      "source": [
        "Set the index to `date` (use `df.set_index` and overwrite `df` with the return value)."
      ]
    },
    {
      "cell_type": "code",
      "metadata": {
        "id": "h3yoKQNPm5rw",
        "colab_type": "code",
        "colab": {}
      },
      "source": [
        "# YOUR CODE HERE (1 line)\n"
      ],
      "execution_count": 0,
      "outputs": []
    },
    {
      "cell_type": "markdown",
      "metadata": {
        "id": "Y25G3RmIm5rw",
        "colab_type": "text"
      },
      "source": [
        "Plot the data by using `df.plot()`. What do you notice?"
      ]
    },
    {
      "cell_type": "code",
      "metadata": {
        "id": "sGbhcOo3m5rw",
        "colab_type": "code",
        "colab": {}
      },
      "source": [
        "# YOUR CODE HERE (1 line)\n"
      ],
      "execution_count": 0,
      "outputs": []
    },
    {
      "cell_type": "markdown",
      "metadata": {
        "id": "IBYZZ-6qm5rw",
        "colab_type": "text"
      },
      "source": [
        "The dataset uses -99.99 in the `co2` column to denote missing data. Set these values to `None` instead."
      ]
    },
    {
      "cell_type": "code",
      "metadata": {
        "id": "LyQbqe1Pm5rw",
        "colab_type": "code",
        "colab": {}
      },
      "source": [
        "# YOUR CODE HERE (1 line)\n"
      ],
      "execution_count": 0,
      "outputs": []
    },
    {
      "cell_type": "markdown",
      "metadata": {
        "id": "iGOYnZivm5rw",
        "colab_type": "text"
      },
      "source": [
        "Now, use the [`Series.interpolate()`](https://pandas.pydata.org/pandas-docs/stable/reference/api/pandas.Series.interpolate.html) function to fill in the missing data. Look at the example in the documentation to see how it works."
      ]
    },
    {
      "cell_type": "code",
      "metadata": {
        "id": "IOHbF2ehm5rw",
        "colab_type": "code",
        "colab": {}
      },
      "source": [
        "# YOUR CODE HERE (1 line)\n"
      ],
      "execution_count": 0,
      "outputs": []
    },
    {
      "cell_type": "markdown",
      "metadata": {
        "id": "c3KE_jlfm5rw",
        "colab_type": "text"
      },
      "source": [
        "Plot the data again (`df.plot()`). Is the problem solved?"
      ]
    },
    {
      "cell_type": "code",
      "metadata": {
        "id": "noMaqKGlm5rw",
        "colab_type": "code",
        "colab": {}
      },
      "source": [
        "# YOUR CODE HERE (1 line)\n"
      ],
      "execution_count": 0,
      "outputs": []
    },
    {
      "cell_type": "markdown",
      "metadata": {
        "id": "H85Zi24Jm5tU",
        "colab_type": "text"
      },
      "source": [
        "Save the above plot as `qsn1.png`.\n",
        "\n",
        "Now plot only the data since 2008 (by selecting only the rows after 2008). You can slice based only on the year as follows `df['2008':]` You should be able to see the seasonal variation more clearly."
      ]
    },
    {
      "cell_type": "code",
      "metadata": {
        "id": "ESsKS8UAm5tU",
        "colab_type": "code",
        "colab": {}
      },
      "source": [
        "# YOUR CODE HERE (1 line)\n"
      ],
      "execution_count": 0,
      "outputs": []
    },
    {
      "cell_type": "markdown",
      "metadata": {
        "id": "8wGmXzQ-m5tU",
        "colab_type": "text"
      },
      "source": [
        "## Question 2 - Fit a curve\n",
        "\n",
        "Next we want to fit the data with a curve of specific functional form. Before we do that we need the time in some numeric format so that we can calculate functions on it.\n",
        "\n",
        "Create a column called `float_time` to represent the floating point value of the year. As an example 1st July 2009 will be 2009.5 , as it represents the middle of the year. To do this use `df.index.month` and `df.index.year` to create the formula that represents time as a decimal number of years."
      ]
    },
    {
      "cell_type": "code",
      "metadata": {
        "id": "oPdYeB_-m5tU",
        "colab_type": "code",
        "colab": {}
      },
      "source": [
        "# YOUR CODE HERE (1 line)\n"
      ],
      "execution_count": 0,
      "outputs": []
    },
    {
      "cell_type": "markdown",
      "metadata": {
        "id": "8s-KeG7Am5tU",
        "colab_type": "text"
      },
      "source": [
        "Next create a function to represent the curve that we want to use to fit the data, it should represent the following mathematical function. We are going to use an exponential curve.\n",
        "\n",
        "$$ f(t) = a+ be^{c(t-1900)}$$\n",
        "\n",
        "It has three parameters a,b,c"
      ]
    },
    {
      "cell_type": "code",
      "metadata": {
        "id": "5HjQ2Ptlm5tU",
        "colab_type": "code",
        "colab": {}
      },
      "source": [
        "# YOUR CODE HERE (2 lines)\n"
      ],
      "execution_count": 0,
      "outputs": []
    },
    {
      "cell_type": "markdown",
      "metadata": {
        "id": "duyfuwhkm5tU",
        "colab_type": "text"
      },
      "source": [
        "Use the `scipy.optimize` library to fit this curve to the `trend` column in the dataset. You may need to play around with the initial guesses to make sure the curve is correctly fit.\n",
        "\n",
        "Hint: Try to plot the trend curve and the model curve with some parameters you choose by hand. Now modify the guesses until the model curve roughly fits the trend curve. Think of this as a sort of \"manual\" fitting step before you refine your guesses using scipy."
      ]
    },
    {
      "cell_type": "code",
      "metadata": {
        "id": "aY3Fd_QFm5tU",
        "colab_type": "code",
        "colab": {}
      },
      "source": [
        "import scipy.optimize as opt"
      ],
      "execution_count": 0,
      "outputs": []
    },
    {
      "cell_type": "code",
      "metadata": {
        "id": "gcN__xNMm5tU",
        "colab_type": "code",
        "colab": {}
      },
      "source": [
        "# YOUR CODE HERE (1 line)\n"
      ],
      "execution_count": 0,
      "outputs": []
    },
    {
      "cell_type": "markdown",
      "metadata": {
        "id": "N7P1jiVzm5tU",
        "colab_type": "text"
      },
      "source": [
        "Create a new column called `curve_fit` and store the curve that you fit above."
      ]
    },
    {
      "cell_type": "code",
      "metadata": {
        "id": "QCt3O3hlm5tU",
        "colab_type": "code",
        "colab": {}
      },
      "source": [
        "# YOUR CODE HERE (1 line)\n"
      ],
      "execution_count": 0,
      "outputs": []
    },
    {
      "cell_type": "markdown",
      "metadata": {
        "id": "16oyWIF6m5tU",
        "colab_type": "text"
      },
      "source": [
        "Plot both the fitted curve values and the CO2 trend values in the same plot. Save the plot as `qsn2.png`"
      ]
    },
    {
      "cell_type": "code",
      "metadata": {
        "id": "bqvaKmFzm5tU",
        "colab_type": "code",
        "colab": {}
      },
      "source": [
        "# YOUR CODE HERE (1 line)\n"
      ],
      "execution_count": 0,
      "outputs": []
    },
    {
      "cell_type": "markdown",
      "metadata": {
        "id": "Cy9eE-R9m5tU",
        "colab_type": "text"
      },
      "source": [
        "Does it match? If it does not you need to tweak the initial values of the model parameters untill both the curves are almost coincident."
      ]
    },
    {
      "cell_type": "markdown",
      "metadata": {
        "id": "nVBPbdFMm5tU",
        "colab_type": "text"
      },
      "source": [
        "## Question 3 - Make a prediction\n",
        "\n",
        "The CO2 level crossed the 400 ppm level around 2013. In this question we want to find out when according to our naive curve model, will it cross 500 ppm?\n",
        "\n",
        "Use the `scipy.optimize` package's root finding functions to find when will your curve cross the 500ppm threshold mark.\n",
        "\n",
        "Hint: You can do the following in one line, using lambda functions"
      ]
    },
    {
      "cell_type": "code",
      "metadata": {
        "id": "v09Xi1w_m5tU",
        "colab_type": "code",
        "colab": {}
      },
      "source": [
        "# YOUR CODE HERE (1 line)\n"
      ],
      "execution_count": 0,
      "outputs": []
    },
    {
      "cell_type": "markdown",
      "metadata": {
        "id": "pEdCc_aBm5tU",
        "colab_type": "text"
      },
      "source": [
        "Plot the CO2 trend along with the prediction values upto the year it would reach 500ppm. You should see two curves, one is the data till 2019 and the other should entend all the way upto the year you predicted that CO2 will cross 500pm. Save the graph as `qsn3.png`.\n",
        "\n",
        "Hint: You may find it easier to plot using matplotlib plot directly rather than using `df.plot` in this case. Create a linspace from the starting year to the year you predicted to use as the x-axis of the plot."
      ]
    },
    {
      "cell_type": "code",
      "metadata": {
        "id": "s7Ei56b6m5tU",
        "colab_type": "code",
        "colab": {}
      },
      "source": [
        "# YOUR CODE HERE (~4 lines)\n"
      ],
      "execution_count": 0,
      "outputs": []
    },
    {
      "cell_type": "markdown",
      "metadata": {
        "id": "kOYLLL23m5tU",
        "colab_type": "text"
      },
      "source": [
        "## Question 4 - Explain the variation\n",
        "\n",
        "We will now use the curve-fit model that we created earlier to subtract the general increasing trend we see from the CO2 levels. This will allow us to study the more subtle changes in the CO2 levels. In particular we will try to explain these small changes using the [El Nino](https://en.wikipedia.org/wiki/El_Niño) phenomenon. It is a cyclic phenomenon that makes certain winters warmer than usual. We want to see if it can explain the subtle variations in the CO2 levels over and above the general exponential trend. There can be many reasons why the warmer winters might affect the the CO2 levels, including complicated biological reasons such as change in vegetation cover etc, but also man-made reasons such as decreased energy conumption due to reduction in requirement of internal heating. We will use a dataset for the Ocean Nino Index (ONI) which has monthly values just like the CO2 dataset.\n",
        "\n",
        "Download the dataset by running the cell below. You can read more about this data [here](https://origin.cpc.ncep.noaa.gov/products/analysis_monitoring/ensostuff/ONI_v5.php). The SEAS column represents the first letters of the three consecutive months for which the average is taken. For example Jan Feb March will be JFM, We will consider that to be February's value, i.e. the middle month."
      ]
    },
    {
      "cell_type": "code",
      "metadata": {
        "id": "XQHhd4ECm5tU",
        "colab_type": "code",
        "colab": {}
      },
      "source": [
        "oni_df = pd.read_csv('https://www.cpc.ncep.noaa.gov/data/indices/oni.ascii.txt', \n",
        "                  delim_whitespace=True)\n",
        "\n",
        "oni_df"
      ],
      "execution_count": 0,
      "outputs": []
    },
    {
      "cell_type": "markdown",
      "metadata": {
        "id": "nsEL71tGm5tU",
        "colab_type": "text"
      },
      "source": [
        "Store the difference between the `trend` column and the `curve_fit` column in a column called `co2_variation`. This column shows how the CO2 level deviated from the curve model in a particular month. Plot it. You should see that max and min deviation is around +2 and -2 ppm. If not you may need to revisit the curve fitting again."
      ]
    },
    {
      "cell_type": "code",
      "metadata": {
        "id": "058IWeewm5tU",
        "colab_type": "code",
        "colab": {}
      },
      "source": [
        "# YOUR CODE HERE \n"
      ],
      "execution_count": 0,
      "outputs": []
    },
    {
      "cell_type": "markdown",
      "metadata": {
        "id": "_ectKyTOm5tU",
        "colab_type": "text"
      },
      "source": [
        "Now the task is to find a common set of dates between the datasets (`df` and `oni_df`), to perform the analysis on. In this particular case that can be easily done manually. Store the aligned CO2 levels dataframe in a variable called `df_sub` and the ONI values dataframe in a variable called `oni_df_sub`. They should have same number of rows and the rows should represent the same months."
      ]
    },
    {
      "cell_type": "code",
      "metadata": {
        "id": "saqFBASem5tU",
        "colab_type": "code",
        "colab": {}
      },
      "source": [
        "# YOUR CODE HERE \n"
      ],
      "execution_count": 0,
      "outputs": []
    },
    {
      "cell_type": "markdown",
      "metadata": {
        "id": "Q73MEy62m5tU",
        "colab_type": "text"
      },
      "source": [
        "The below output should show the same start and end dates, if they are properly aligned"
      ]
    },
    {
      "cell_type": "code",
      "metadata": {
        "id": "0GBJOJOwm5tU",
        "colab_type": "code",
        "colab": {}
      },
      "source": [
        "print(oni_df_sub[['SEAS','YR']].iloc[[0,-1]])\n",
        "print(df_sub.index[[0,-1]])"
      ],
      "execution_count": 0,
      "outputs": []
    },
    {
      "cell_type": "markdown",
      "metadata": {
        "id": "WLnw1PB2m5tU",
        "colab_type": "text"
      },
      "source": [
        "We can now extract the values into numpy arrays to use for regression"
      ]
    },
    {
      "cell_type": "code",
      "metadata": {
        "id": "l1Hvl_Pjm5tU",
        "colab_type": "code",
        "colab": {}
      },
      "source": [
        "y = df_sub['co2_variation'].values\n",
        "x = oni_df_sub['ANOM'].values"
      ],
      "execution_count": 0,
      "outputs": []
    },
    {
      "cell_type": "markdown",
      "metadata": {
        "id": "H0WCinfzm5tU",
        "colab_type": "text"
      },
      "source": [
        "Let us now train a linear regression model to see if we can predict the CO2 variation using the ONI values. Since this is a time series and there can be historical dependence, we want to use the time shifted values of `x` as features to predict `y`. We want our prediction of the CO2 variation to linearly depend on the ONI values for the last year (12 months). This is called an [Autoregressive Model](https://en.wikipedia.org/wiki/Autoregressive_model)\n",
        "\n",
        "Write a function called `featurize(x,d)` that returns a matrix of `d` columns, where each column is a time shifted version of `x`. The first column would be `x` itself, the second one will be `x` delayed by one (shifted down by 1, time increases as you go down) and so on till column `d`. Since the earliest `d-1` values do not have enough history, we can ignore such rows, thus the return value will have `d-1` fewer rows. Compare the output of your function to the example output below to make sure it is working correctly."
      ]
    },
    {
      "cell_type": "code",
      "metadata": {
        "id": "91rRUpPLm5tU",
        "colab_type": "code",
        "colab": {}
      },
      "source": [
        "# YOUR CODE HERE \n",
        "def featurize(x,d=12):\n",
        "    pass"
      ],
      "execution_count": 0,
      "outputs": []
    },
    {
      "cell_type": "code",
      "metadata": {
        "id": "QYb8ka3Gm5tU",
        "colab_type": "code",
        "colab": {}
      },
      "source": [
        "inp1 = 0.1*np.arange(10)\n",
        "print(\"Input = \",inp1,\"\\n\")\n",
        "print(\"Output = \\n\",featurize(inp1,4), \"\\n\")"
      ],
      "execution_count": 0,
      "outputs": []
    },
    {
      "cell_type": "markdown",
      "metadata": {
        "id": "VF7Z_uKCm5tU",
        "colab_type": "text"
      },
      "source": [
        "Expected output is \n",
        "```\n",
        "Input =  [0.  0.1 0.2 0.3 0.4 0.5 0.6 0.7 0.8 0.9] \n",
        "\n",
        "Output = \n",
        " [[0.3 0.2 0.1 0. ]\n",
        " [0.4 0.3 0.2 0.1]\n",
        " [0.5 0.4 0.3 0.2]\n",
        " [0.6 0.5 0.4 0.3]\n",
        " [0.7 0.6 0.5 0.4]\n",
        " [0.8 0.7 0.6 0.5]\n",
        " [0.9 0.8 0.7 0.6]]\n",
        "\n",
        "```"
      ]
    },
    {
      "cell_type": "markdown",
      "metadata": {
        "id": "MW_L72oSm5tU",
        "colab_type": "text"
      },
      "source": [
        "Now use d=12 to featurize the `x` values and train a linear regression model to predict `y`. Remember you need to truncate `y` as well to ensure they are the same size."
      ]
    },
    {
      "cell_type": "code",
      "metadata": {
        "id": "E3tpA6QLm5tU",
        "colab_type": "code",
        "colab": {}
      },
      "source": [
        "# YOUR CODE HERE \n"
      ],
      "execution_count": 0,
      "outputs": []
    },
    {
      "cell_type": "markdown",
      "metadata": {
        "id": "7tMHk3DFm5tU",
        "colab_type": "text"
      },
      "source": [
        "Now store the regression predictions in a column called \"ONI_regression\" and plot both the \"ONI_regression\" and \"co2_variation\" columns in the same plot. Does the regression actually capture the variation in CO2 levels?\n",
        "\n",
        "To be more principled, use `scipy.stats.pearsonr` to compute the [Peasrson's R coefficient](https://en.wikipedia.org/wiki/Pearson_correlation_coefficient) between the \"ONI_regression\" and \"co2_variation\" columns and display the value in the title of the graph."
      ]
    },
    {
      "cell_type": "code",
      "metadata": {
        "id": "JI1999kAm5tU",
        "colab_type": "code",
        "colab": {}
      },
      "source": [
        "# YOUR CODE HERE \n"
      ],
      "execution_count": 0,
      "outputs": []
    },
    {
      "cell_type": "markdown",
      "metadata": {
        "id": "W3RCt1eMm5tU",
        "colab_type": "text"
      },
      "source": [
        "If you look at the above graph closely you should see that indeed some of the peaks can be captured through the regression model. The predictions should be better in the later years after 1995. In order to confirm that, plot from 1995 onwards and recompute the pearson coefficient for this time period and put it in the title of the plot. You should get a higher value of the coefficient now. Save this plot as `qsn4.png`."
      ]
    },
    {
      "cell_type": "code",
      "metadata": {
        "id": "ep_NLNzCm5tU",
        "colab_type": "code",
        "colab": {}
      },
      "source": [
        "# YOUR CODE HERE \n"
      ],
      "execution_count": 0,
      "outputs": []
    },
    {
      "cell_type": "markdown",
      "metadata": {
        "id": "-1KOUej4m5tU",
        "colab_type": "text"
      },
      "source": [
        "# Submission Instructions\n",
        "\n",
        "You need to submit the following in canvas\n",
        "1. This notebook with the code filled in for each question\n",
        "2. The figures\n",
        "    1. qsn1.png\n",
        "    2. qsn2.png\n",
        "    3. qsn3.png\n",
        "    4. qsn4.png\n"
      ]
    },
    {
      "cell_type": "code",
      "metadata": {
        "id": "l5wGNHrYm5tU",
        "colab_type": "code",
        "colab": {}
      },
      "source": [
        ""
      ],
      "execution_count": 0,
      "outputs": []
    }
  ]
}